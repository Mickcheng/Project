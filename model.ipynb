{
 "cells": [
  {
   "cell_type": "code",
   "execution_count": 1,
   "metadata": {},
   "outputs": [],
   "source": [
    "import os\n",
    "import pandas as pd\n",
    "import numpy as np\n",
    "from nltk.tokenize import word_tokenize\n",
    "from nltk import pos_tag\n",
    "from nltk.corpus import stopwords\n",
    "from nltk.stem import WordNetLemmatizer\n",
    "from sklearn.preprocessing import LabelEncoder\n",
    "from collections import defaultdict\n",
    "#from nltk.corpus import wordnet as wn\n",
    "from sklearn.feature_extraction.text import TfidfVectorizer\n",
    "from sklearn import model_selection, naive_bayes, svm\n",
    "from sklearn.metrics import accuracy_score\n",
    "import matplotlib.pyplot as plt\n",
    "import nltk"
   ]
  },
  {
   "cell_type": "code",
   "execution_count": 2,
   "metadata": {},
   "outputs": [],
   "source": [
    "df = pd.read_csv(\"Tweets_part.csv\")"
   ]
  },
  {
   "cell_type": "code",
   "execution_count": 3,
   "metadata": {},
   "outputs": [],
   "source": [
    "new_df = df[['words','label','text']]"
   ]
  },
  {
   "cell_type": "code",
   "execution_count": 4,
   "metadata": {},
   "outputs": [
    {
     "name": "stderr",
     "output_type": "stream",
     "text": [
      "C:\\Users\\kenny\\Anaconda3\\lib\\site-packages\\ipykernel_launcher.py:8: SettingWithCopyWarning: \n",
      "A value is trying to be set on a copy of a slice from a DataFrame.\n",
      "Try using .loc[row_indexer,col_indexer] = value instead\n",
      "\n",
      "See the caveats in the documentation: http://pandas.pydata.org/pandas-docs/stable/user_guide/indexing.html#returning-a-view-versus-a-copy\n",
      "  \n"
     ]
    }
   ],
   "source": [
    "import nltk\n",
    "from nltk.tokenize import WordPunctTokenizer\n",
    "\n",
    "tokenizer = nltk.RegexpTokenizer(r\"\\w+\")\n",
    "\n",
    "\n",
    "\n",
    "new_df['text'] = new_df['text'].apply(lambda x: tokenizer.tokenize(x.lower()))"
   ]
  },
  {
   "cell_type": "code",
   "execution_count": 5,
   "metadata": {},
   "outputs": [
    {
     "name": "stderr",
     "output_type": "stream",
     "text": [
      "C:\\Users\\kenny\\Anaconda3\\lib\\site-packages\\ipykernel_launcher.py:3: SettingWithCopyWarning: \n",
      "A value is trying to be set on a copy of a slice from a DataFrame.\n",
      "Try using .loc[row_indexer,col_indexer] = value instead\n",
      "\n",
      "See the caveats in the documentation: http://pandas.pydata.org/pandas-docs/stable/user_guide/indexing.html#returning-a-view-versus-a-copy\n",
      "  This is separate from the ipykernel package so we can avoid doing imports until\n"
     ]
    }
   ],
   "source": [
    "from nltk.corpus import stopwords\n",
    "stopWords = stopwords.words('english')\n",
    "new_df['text'] = new_df['text'].apply(lambda x: [item for item in x if item not in stopWords])"
   ]
  },
  {
   "cell_type": "code",
   "execution_count": 6,
   "metadata": {},
   "outputs": [
    {
     "name": "stderr",
     "output_type": "stream",
     "text": [
      "C:\\Users\\kenny\\Anaconda3\\lib\\site-packages\\ipykernel_launcher.py:1: SettingWithCopyWarning: \n",
      "A value is trying to be set on a copy of a slice from a DataFrame.\n",
      "Try using .loc[row_indexer,col_indexer] = value instead\n",
      "\n",
      "See the caveats in the documentation: http://pandas.pydata.org/pandas-docs/stable/user_guide/indexing.html#returning-a-view-versus-a-copy\n",
      "  \"\"\"Entry point for launching an IPython kernel.\n"
     ]
    }
   ],
   "source": [
    "new_df['words'] = 1"
   ]
  },
  {
   "cell_type": "code",
   "execution_count": 7,
   "metadata": {},
   "outputs": [
    {
     "data": {
      "text/html": [
       "<div>\n",
       "<style scoped>\n",
       "    .dataframe tbody tr th:only-of-type {\n",
       "        vertical-align: middle;\n",
       "    }\n",
       "\n",
       "    .dataframe tbody tr th {\n",
       "        vertical-align: top;\n",
       "    }\n",
       "\n",
       "    .dataframe thead th {\n",
       "        text-align: right;\n",
       "    }\n",
       "</style>\n",
       "<table border=\"1\" class=\"dataframe\">\n",
       "  <thead>\n",
       "    <tr style=\"text-align: right;\">\n",
       "      <th></th>\n",
       "      <th>words</th>\n",
       "      <th>label</th>\n",
       "      <th>text</th>\n",
       "    </tr>\n",
       "  </thead>\n",
       "  <tbody>\n",
       "    <tr>\n",
       "      <td>0</td>\n",
       "      <td>1</td>\n",
       "      <td>Negative</td>\n",
       "      <td>[tiffanylue, know, listenin, bad, habit, earli...</td>\n",
       "    </tr>\n",
       "    <tr>\n",
       "      <td>1</td>\n",
       "      <td>1</td>\n",
       "      <td>Neutral</td>\n",
       "      <td>[layin, n, bed, headache, ughhhh, waitin, call]</td>\n",
       "    </tr>\n",
       "    <tr>\n",
       "      <td>2</td>\n",
       "      <td>1</td>\n",
       "      <td>Negative</td>\n",
       "      <td>[funeral, ceremony, gloomy, friday]</td>\n",
       "    </tr>\n",
       "    <tr>\n",
       "      <td>3</td>\n",
       "      <td>1</td>\n",
       "      <td>Positive</td>\n",
       "      <td>[wants, hang, friends, soon]</td>\n",
       "    </tr>\n",
       "    <tr>\n",
       "      <td>4</td>\n",
       "      <td>1</td>\n",
       "      <td>Positive</td>\n",
       "      <td>[dannycastillo, want, trade, someone, houston,...</td>\n",
       "    </tr>\n",
       "    <tr>\n",
       "      <td>...</td>\n",
       "      <td>...</td>\n",
       "      <td>...</td>\n",
       "      <td>...</td>\n",
       "    </tr>\n",
       "    <tr>\n",
       "      <td>39995</td>\n",
       "      <td>1</td>\n",
       "      <td>Neutral</td>\n",
       "      <td>[johnlloydtaylor]</td>\n",
       "    </tr>\n",
       "    <tr>\n",
       "      <td>39996</td>\n",
       "      <td>1</td>\n",
       "      <td>Positive</td>\n",
       "      <td>[happy, mothers, day, love]</td>\n",
       "    </tr>\n",
       "    <tr>\n",
       "      <td>39997</td>\n",
       "      <td>1</td>\n",
       "      <td>Positive</td>\n",
       "      <td>[happy, mother, day, mommies, woman, man, long...</td>\n",
       "    </tr>\n",
       "    <tr>\n",
       "      <td>39998</td>\n",
       "      <td>1</td>\n",
       "      <td>Positive</td>\n",
       "      <td>[niariley, wassup, beautiful, follow, peep, ne...</td>\n",
       "    </tr>\n",
       "    <tr>\n",
       "      <td>39999</td>\n",
       "      <td>1</td>\n",
       "      <td>Neutral</td>\n",
       "      <td>[mopedronin, bullet, train, tokyo, gf, visitin...</td>\n",
       "    </tr>\n",
       "  </tbody>\n",
       "</table>\n",
       "<p>40000 rows × 3 columns</p>\n",
       "</div>"
      ],
      "text/plain": [
       "       words     label                                               text\n",
       "0          1  Negative  [tiffanylue, know, listenin, bad, habit, earli...\n",
       "1          1   Neutral    [layin, n, bed, headache, ughhhh, waitin, call]\n",
       "2          1  Negative                [funeral, ceremony, gloomy, friday]\n",
       "3          1  Positive                       [wants, hang, friends, soon]\n",
       "4          1  Positive  [dannycastillo, want, trade, someone, houston,...\n",
       "...      ...       ...                                                ...\n",
       "39995      1   Neutral                                  [johnlloydtaylor]\n",
       "39996      1  Positive                        [happy, mothers, day, love]\n",
       "39997      1  Positive  [happy, mother, day, mommies, woman, man, long...\n",
       "39998      1  Positive  [niariley, wassup, beautiful, follow, peep, ne...\n",
       "39999      1   Neutral  [mopedronin, bullet, train, tokyo, gf, visitin...\n",
       "\n",
       "[40000 rows x 3 columns]"
      ]
     },
     "execution_count": 7,
     "metadata": {},
     "output_type": "execute_result"
    }
   ],
   "source": [
    "new_df"
   ]
  },
  {
   "cell_type": "code",
   "execution_count": 8,
   "metadata": {},
   "outputs": [
    {
     "name": "stderr",
     "output_type": "stream",
     "text": [
      "C:\\Users\\kenny\\Anaconda3\\lib\\site-packages\\pandas\\core\\indexing.py:494: SettingWithCopyWarning: \n",
      "A value is trying to be set on a copy of a slice from a DataFrame.\n",
      "Try using .loc[row_indexer,col_indexer] = value instead\n",
      "\n",
      "See the caveats in the documentation: http://pandas.pydata.org/pandas-docs/stable/user_guide/indexing.html#returning-a-view-versus-a-copy\n",
      "  self.obj[item] = s\n",
      "C:\\Users\\kenny\\Anaconda3\\lib\\site-packages\\pandas\\core\\indexing.py:205: SettingWithCopyWarning: \n",
      "A value is trying to be set on a copy of a slice from a DataFrame\n",
      "\n",
      "See the caveats in the documentation: http://pandas.pydata.org/pandas-docs/stable/user_guide/indexing.html#returning-a-view-versus-a-copy\n",
      "  self._setitem_with_indexer(indexer, value)\n",
      "C:\\Users\\kenny\\Anaconda3\\lib\\site-packages\\ipykernel_launcher.py:23: SettingWithCopyWarning: \n",
      "A value is trying to be set on a copy of a slice from a DataFrame\n",
      "\n",
      "See the caveats in the documentation: http://pandas.pydata.org/pandas-docs/stable/user_guide/indexing.html#returning-a-view-versus-a-copy\n"
     ]
    }
   ],
   "source": [
    "#à tester\n",
    "# Lemmatize with POS Tag\n",
    "from nltk.corpus import wordnet\n",
    "\n",
    "def get_wordnet_pos(word):\n",
    "    tag = nltk.pos_tag([word])[0][1][0].upper()\n",
    "    tag_dict = {\"J\": wordnet.ADJ,\n",
    "                \"N\": wordnet.NOUN,\n",
    "                \"V\": wordnet.VERB,\n",
    "                \"R\": wordnet.ADV}\n",
    "\n",
    "    return tag_dict.get(tag, wordnet.NOUN)\n",
    "\n",
    "lemmatizer = WordNetLemmatizer()\n",
    "\n",
    "for index,entry in enumerate(new_df['text']):\n",
    "    words = []\n",
    "    \n",
    "    for word in entry:\n",
    "        \n",
    "        pos_word = get_wordnet_pos(word)\n",
    "        words.append(lemmatizer.lemmatize(word,pos_word))\n",
    "    new_df.loc[index,'words'] = str(words)\n",
    "   "
   ]
  },
  {
   "cell_type": "code",
   "execution_count": 9,
   "metadata": {},
   "outputs": [
    {
     "data": {
      "text/html": [
       "<div>\n",
       "<style scoped>\n",
       "    .dataframe tbody tr th:only-of-type {\n",
       "        vertical-align: middle;\n",
       "    }\n",
       "\n",
       "    .dataframe tbody tr th {\n",
       "        vertical-align: top;\n",
       "    }\n",
       "\n",
       "    .dataframe thead th {\n",
       "        text-align: right;\n",
       "    }\n",
       "</style>\n",
       "<table border=\"1\" class=\"dataframe\">\n",
       "  <thead>\n",
       "    <tr style=\"text-align: right;\">\n",
       "      <th></th>\n",
       "      <th>words</th>\n",
       "      <th>label</th>\n",
       "      <th>text</th>\n",
       "    </tr>\n",
       "  </thead>\n",
       "  <tbody>\n",
       "    <tr>\n",
       "      <td>0</td>\n",
       "      <td>['tiffanylue', 'know', 'listenin', 'bad', 'hab...</td>\n",
       "      <td>Negative</td>\n",
       "      <td>[tiffanylue, know, listenin, bad, habit, earli...</td>\n",
       "    </tr>\n",
       "    <tr>\n",
       "      <td>1</td>\n",
       "      <td>['layin', 'n', 'bed', 'headache', 'ughhhh', 'w...</td>\n",
       "      <td>Neutral</td>\n",
       "      <td>[layin, n, bed, headache, ughhhh, waitin, call]</td>\n",
       "    </tr>\n",
       "    <tr>\n",
       "      <td>2</td>\n",
       "      <td>['funeral', 'ceremony', 'gloomy', 'friday']</td>\n",
       "      <td>Negative</td>\n",
       "      <td>[funeral, ceremony, gloomy, friday]</td>\n",
       "    </tr>\n",
       "    <tr>\n",
       "      <td>3</td>\n",
       "      <td>['want', 'hang', 'friend', 'soon']</td>\n",
       "      <td>Positive</td>\n",
       "      <td>[wants, hang, friends, soon]</td>\n",
       "    </tr>\n",
       "    <tr>\n",
       "      <td>4</td>\n",
       "      <td>['dannycastillo', 'want', 'trade', 'someone', ...</td>\n",
       "      <td>Positive</td>\n",
       "      <td>[dannycastillo, want, trade, someone, houston,...</td>\n",
       "    </tr>\n",
       "    <tr>\n",
       "      <td>...</td>\n",
       "      <td>...</td>\n",
       "      <td>...</td>\n",
       "      <td>...</td>\n",
       "    </tr>\n",
       "    <tr>\n",
       "      <td>39995</td>\n",
       "      <td>['johnlloydtaylor']</td>\n",
       "      <td>Neutral</td>\n",
       "      <td>[johnlloydtaylor]</td>\n",
       "    </tr>\n",
       "    <tr>\n",
       "      <td>39996</td>\n",
       "      <td>['happy', 'mother', 'day', 'love']</td>\n",
       "      <td>Positive</td>\n",
       "      <td>[happy, mothers, day, love]</td>\n",
       "    </tr>\n",
       "    <tr>\n",
       "      <td>39997</td>\n",
       "      <td>['happy', 'mother', 'day', 'mommy', 'woman', '...</td>\n",
       "      <td>Positive</td>\n",
       "      <td>[happy, mother, day, mommies, woman, man, long...</td>\n",
       "    </tr>\n",
       "    <tr>\n",
       "      <td>39998</td>\n",
       "      <td>['niariley', 'wassup', 'beautiful', 'follow', ...</td>\n",
       "      <td>Positive</td>\n",
       "      <td>[niariley, wassup, beautiful, follow, peep, ne...</td>\n",
       "    </tr>\n",
       "    <tr>\n",
       "      <td>39999</td>\n",
       "      <td>['mopedronin', 'bullet', 'train', 'tokyo', 'gf...</td>\n",
       "      <td>Neutral</td>\n",
       "      <td>[mopedronin, bullet, train, tokyo, gf, visitin...</td>\n",
       "    </tr>\n",
       "  </tbody>\n",
       "</table>\n",
       "<p>40000 rows × 3 columns</p>\n",
       "</div>"
      ],
      "text/plain": [
       "                                                   words     label  \\\n",
       "0      ['tiffanylue', 'know', 'listenin', 'bad', 'hab...  Negative   \n",
       "1      ['layin', 'n', 'bed', 'headache', 'ughhhh', 'w...   Neutral   \n",
       "2            ['funeral', 'ceremony', 'gloomy', 'friday']  Negative   \n",
       "3                     ['want', 'hang', 'friend', 'soon']  Positive   \n",
       "4      ['dannycastillo', 'want', 'trade', 'someone', ...  Positive   \n",
       "...                                                  ...       ...   \n",
       "39995                                ['johnlloydtaylor']   Neutral   \n",
       "39996                 ['happy', 'mother', 'day', 'love']  Positive   \n",
       "39997  ['happy', 'mother', 'day', 'mommy', 'woman', '...  Positive   \n",
       "39998  ['niariley', 'wassup', 'beautiful', 'follow', ...  Positive   \n",
       "39999  ['mopedronin', 'bullet', 'train', 'tokyo', 'gf...   Neutral   \n",
       "\n",
       "                                                    text  \n",
       "0      [tiffanylue, know, listenin, bad, habit, earli...  \n",
       "1        [layin, n, bed, headache, ughhhh, waitin, call]  \n",
       "2                    [funeral, ceremony, gloomy, friday]  \n",
       "3                           [wants, hang, friends, soon]  \n",
       "4      [dannycastillo, want, trade, someone, houston,...  \n",
       "...                                                  ...  \n",
       "39995                                  [johnlloydtaylor]  \n",
       "39996                        [happy, mothers, day, love]  \n",
       "39997  [happy, mother, day, mommies, woman, man, long...  \n",
       "39998  [niariley, wassup, beautiful, follow, peep, ne...  \n",
       "39999  [mopedronin, bullet, train, tokyo, gf, visitin...  \n",
       "\n",
       "[40000 rows x 3 columns]"
      ]
     },
     "execution_count": 9,
     "metadata": {},
     "output_type": "execute_result"
    }
   ],
   "source": [
    "new_df"
   ]
  },
  {
   "cell_type": "code",
   "execution_count": 10,
   "metadata": {},
   "outputs": [],
   "source": [
    "train_x, test_x, train_y, test_y = model_selection.train_test_split(new_df['words'],new_df['label'],test_size=0.2)"
   ]
  },
  {
   "cell_type": "code",
   "execution_count": 11,
   "metadata": {},
   "outputs": [],
   "source": [
    "encoder = LabelEncoder()\n",
    "train_y_encoded = encoder.fit_transform(train_y)\n",
    "test_y_encoded = encoder.fit_transform(test_y)"
   ]
  },
  {
   "cell_type": "code",
   "execution_count": 12,
   "metadata": {},
   "outputs": [],
   "source": [
    "tfidf_vect = TfidfVectorizer(max_features=2000)\n",
    "tfidf_vect.fit(new_df['words'])\n",
    "train_x_tfidf = tfidf_vect.transform(train_x)\n",
    "test_x_tfidf = tfidf_vect.transform(test_x)"
   ]
  },
  {
   "cell_type": "code",
   "execution_count": 13,
   "metadata": {},
   "outputs": [
    {
     "name": "stdout",
     "output_type": "stream",
     "text": [
      "Naive Bayes Accuracy Score:  74.925\n"
     ]
    }
   ],
   "source": [
    "\n",
    "naive = naive_bayes.MultinomialNB(alpha=0.5)\n",
    "naive.fit(train_x_tfidf,train_y_encoded)\n",
    "\n",
    "predictions_NB = naive.predict(test_x_tfidf)\n",
    "\n",
    "print(\"Naive Bayes Accuracy Score: \", accuracy_score(predictions_NB, test_y_encoded)*100)"
   ]
  },
  {
   "cell_type": "code",
   "execution_count": 14,
   "metadata": {},
   "outputs": [
    {
     "name": "stdout",
     "output_type": "stream",
     "text": [
      "SVM Accuracy Score ->  91.7875\n"
     ]
    }
   ],
   "source": [
    "SVM = svm.SVC(C=1.0, kernel='linear', degree=3, gamma='auto')\n",
    "SVM.fit(train_x_tfidf,train_y)\n",
    "# predict the labels on validation dataset\n",
    "predictions_SVM = SVM.predict(test_x_tfidf)\n",
    "# Use accuracy_score function to get the accuracy\n",
    "accuracy = accuracy_score(predictions_SVM, test_y)\n",
    "#print(\"SVM Accuracy Score -> \",accuracy_score(predictions_SVM, test_y)*100)\n",
    "#print(\"SVM Accuracy Score -> \",accuracy*100)\n",
    "\n",
    "print(\"SVM Accuracy Score -> \",accuracy*100)"
   ]
  },
  {
   "cell_type": "code",
   "execution_count": 15,
   "metadata": {},
   "outputs": [],
   "source": [
    "from sklearn.linear_model import LogisticRegression\n",
    "lr=LogisticRegression(random_state=25, solver='lbfgs',max_iter=1000,multi_class='multinomial')\n",
    "lr.fit(train_x_tfidf,train_y)\n",
    "pred_train_base=lr.predict(train_x_tfidf)\n",
    "pred_test_base=lr.predict(test_x_tfidf)"
   ]
  },
  {
   "cell_type": "code",
   "execution_count": 16,
   "metadata": {},
   "outputs": [],
   "source": [
    "accuracy = accuracy_score(test_y,pred_test_base)"
   ]
  },
  {
   "cell_type": "code",
   "execution_count": 17,
   "metadata": {},
   "outputs": [
    {
     "name": "stdout",
     "output_type": "stream",
     "text": [
      "LR Accuracy Score ->  90.2625\n"
     ]
    }
   ],
   "source": [
    "print(\"LR Accuracy Score -> \",accuracy*100)"
   ]
  },
  {
   "cell_type": "code",
   "execution_count": 18,
   "metadata": {},
   "outputs": [],
   "source": [
    "from sklearn.metrics import classification_report"
   ]
  },
  {
   "cell_type": "code",
   "execution_count": 19,
   "metadata": {},
   "outputs": [
    {
     "name": "stdout",
     "output_type": "stream",
     "text": [
      "              precision    recall  f1-score   support\n",
      "\n",
      "    Negative       0.90      0.78      0.84      1783\n",
      "     Neutral       0.84      0.95      0.89      2175\n",
      "    Positive       0.94      0.93      0.94      4042\n",
      "\n",
      "    accuracy                           0.90      8000\n",
      "   macro avg       0.89      0.89      0.89      8000\n",
      "weighted avg       0.90      0.90      0.90      8000\n",
      "\n"
     ]
    }
   ],
   "source": [
    "print(classification_report(test_y, lr.predict(test_x_tfidf)))"
   ]
  },
  {
   "cell_type": "code",
   "execution_count": 20,
   "metadata": {},
   "outputs": [
    {
     "name": "stdout",
     "output_type": "stream",
     "text": [
      "              precision    recall  f1-score   support\n",
      "\n",
      "    Negative       0.90      0.83      0.86      1783\n",
      "     Neutral       0.88      0.95      0.92      2175\n",
      "    Positive       0.95      0.94      0.94      4042\n",
      "\n",
      "    accuracy                           0.92      8000\n",
      "   macro avg       0.91      0.91      0.91      8000\n",
      "weighted avg       0.92      0.92      0.92      8000\n",
      "\n"
     ]
    }
   ],
   "source": [
    "print(classification_report(test_y, SVM.predict(test_x_tfidf)))"
   ]
  },
  {
   "cell_type": "code",
   "execution_count": null,
   "metadata": {},
   "outputs": [],
   "source": []
  }
 ],
 "metadata": {
  "kernelspec": {
   "display_name": "Python 3",
   "language": "python",
   "name": "python3"
  },
  "language_info": {
   "codemirror_mode": {
    "name": "ipython",
    "version": 3
   },
   "file_extension": ".py",
   "mimetype": "text/x-python",
   "name": "python",
   "nbconvert_exporter": "python",
   "pygments_lexer": "ipython3",
   "version": "3.7.4"
  }
 },
 "nbformat": 4,
 "nbformat_minor": 2
}
